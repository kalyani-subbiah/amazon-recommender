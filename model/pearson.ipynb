{
 "cells": [
  {
   "cell_type": "code",
   "execution_count": 1,
   "id": "46493541",
   "metadata": {},
   "outputs": [
    {
     "name": "stdout",
     "output_type": "stream",
     "text": [
      "Collecting recommenders\n",
      "  Downloading recommenders-1.1.0-py3-none-manylinux1_x86_64.whl (335 kB)\n",
      "     |████████████████████████████████| 335 kB 31.1 MB/s            \n",
      "\u001b[?25hRequirement already satisfied: scikit-learn<1.0.3,>=0.22.1 in /home/ec2-user/anaconda3/envs/python3/lib/python3.6/site-packages (from recommenders) (0.24.1)\n",
      "Collecting pandera[strategies]>=0.6.5\n",
      "  Downloading pandera-0.6.5-py3-none-any.whl (79 kB)\n",
      "     |████████████████████████████████| 79 kB 1.7 MB/s             \n",
      "\u001b[?25hRequirement already satisfied: pandas<2,>1.0.3 in /home/ec2-user/anaconda3/envs/python3/lib/python3.6/site-packages (from recommenders) (1.1.5)\n",
      "Requirement already satisfied: bottleneck<2,>=1.2.1 in /home/ec2-user/anaconda3/envs/python3/lib/python3.6/site-packages (from recommenders) (1.3.2)\n",
      "Collecting memory-profiler<1,>=0.54.0\n",
      "  Downloading memory_profiler-0.60.0.tar.gz (38 kB)\n",
      "  Preparing metadata (setup.py) ... \u001b[?25ldone\n",
      "\u001b[?25hRequirement already satisfied: numba<1,>=0.38.1 in /home/ec2-user/anaconda3/envs/python3/lib/python3.6/site-packages (from recommenders) (0.52.0)\n",
      "Collecting retrying>=1.3.3\n",
      "  Downloading retrying-1.3.3.tar.gz (10 kB)\n",
      "  Preparing metadata (setup.py) ... \u001b[?25ldone\n",
      "\u001b[?25hRequirement already satisfied: pyyaml<6,>=5.4.1 in /home/ec2-user/anaconda3/envs/python3/lib/python3.6/site-packages (from recommenders) (5.4.1)\n",
      "Collecting lightfm<2,>=1.15\n",
      "  Downloading lightfm-1.16.tar.gz (310 kB)\n",
      "     |████████████████████████████████| 310 kB 70.5 MB/s            \n",
      "\u001b[?25h  Preparing metadata (setup.py) ... \u001b[?25ldone\n",
      "\u001b[?25hRequirement already satisfied: numpy>=1.19 in /home/ec2-user/anaconda3/envs/python3/lib/python3.6/site-packages (from recommenders) (1.19.5)\n",
      "Collecting category-encoders<2,>=1.3.0\n",
      "  Downloading category_encoders-1.3.0-py2.py3-none-any.whl (61 kB)\n",
      "     |████████████████████████████████| 61 kB 677 kB/s             \n",
      "\u001b[?25hCollecting scikit-surprise>=1.0.6\n",
      "  Downloading scikit-surprise-1.1.1.tar.gz (11.8 MB)\n",
      "     |████████████████████████████████| 11.8 MB 5.0 MB/s            \n",
      "\u001b[?25h  Preparing metadata (setup.py) ... \u001b[?25ldone\n",
      "\u001b[?25hRequirement already satisfied: jinja2<3.1,>=2 in /home/ec2-user/anaconda3/envs/python3/lib/python3.6/site-packages (from recommenders) (2.11.3)\n",
      "Requirement already satisfied: tqdm<5,>=4.31.1 in /home/ec2-user/anaconda3/envs/python3/lib/python3.6/site-packages (from recommenders) (4.62.3)\n",
      "Requirement already satisfied: nltk<4,>=3.4 in /home/ec2-user/anaconda3/envs/python3/lib/python3.6/site-packages (from recommenders) (3.4.4)\n",
      "Requirement already satisfied: seaborn<1,>=0.8.1 in /home/ec2-user/anaconda3/envs/python3/lib/python3.6/site-packages (from recommenders) (0.11.1)\n",
      "Collecting transformers<5,>=2.5.0\n",
      "  Downloading transformers-4.18.0-py3-none-any.whl (4.0 MB)\n",
      "     |████████████████████████████████| 4.0 MB 64.5 MB/s            \n",
      "\u001b[?25hCollecting lightgbm>=2.2.1\n",
      "  Downloading lightgbm-3.3.2-py3-none-manylinux1_x86_64.whl (2.0 MB)\n",
      "     |████████████████████████████████| 2.0 MB 35.6 MB/s            \n",
      "\u001b[?25hCollecting cornac<2,>=1.1.2\n",
      "  Downloading cornac-1.14.2-cp36-cp36m-manylinux1_x86_64.whl (12.5 MB)\n",
      "     |████████████████████████████████| 12.5 MB 40.1 MB/s            \n",
      "\u001b[?25hRequirement already satisfied: requests<3,>=2.0.0 in /home/ec2-user/anaconda3/envs/python3/lib/python3.6/site-packages (from recommenders) (2.26.0)\n",
      "Requirement already satisfied: scipy<2,>=1.0.0 in /home/ec2-user/anaconda3/envs/python3/lib/python3.6/site-packages (from recommenders) (1.5.3)\n",
      "Requirement already satisfied: matplotlib<4,>=2.2.2 in /home/ec2-user/anaconda3/envs/python3/lib/python3.6/site-packages (from recommenders) (3.3.4)\n",
      "Requirement already satisfied: statsmodels>=0.6.1 in /home/ec2-user/anaconda3/envs/python3/lib/python3.6/site-packages (from category-encoders<2,>=1.3.0->recommenders) (0.12.2)\n",
      "Requirement already satisfied: patsy>=0.4.1 in /home/ec2-user/anaconda3/envs/python3/lib/python3.6/site-packages (from category-encoders<2,>=1.3.0->recommenders) (0.5.1)\n",
      "Collecting powerlaw\n",
      "  Downloading powerlaw-1.5-py3-none-any.whl (24 kB)\n",
      "Requirement already satisfied: MarkupSafe>=0.23 in /home/ec2-user/anaconda3/envs/python3/lib/python3.6/site-packages (from jinja2<3.1,>=2->recommenders) (1.1.1)\n",
      "Requirement already satisfied: wheel in /home/ec2-user/anaconda3/envs/python3/lib/python3.6/site-packages (from lightgbm>=2.2.1->recommenders) (0.36.2)\n",
      "Requirement already satisfied: kiwisolver>=1.0.1 in /home/ec2-user/anaconda3/envs/python3/lib/python3.6/site-packages (from matplotlib<4,>=2.2.2->recommenders) (1.3.1)\n",
      "Requirement already satisfied: pillow>=6.2.0 in /home/ec2-user/anaconda3/envs/python3/lib/python3.6/site-packages (from matplotlib<4,>=2.2.2->recommenders) (8.4.0)\n",
      "Requirement already satisfied: cycler>=0.10 in /home/ec2-user/anaconda3/envs/python3/lib/python3.6/site-packages (from matplotlib<4,>=2.2.2->recommenders) (0.10.0)\n",
      "Requirement already satisfied: pyparsing!=2.0.4,!=2.1.2,!=2.1.6,>=2.0.3 in /home/ec2-user/anaconda3/envs/python3/lib/python3.6/site-packages (from matplotlib<4,>=2.2.2->recommenders) (2.4.7)\n",
      "Requirement already satisfied: python-dateutil>=2.1 in /home/ec2-user/anaconda3/envs/python3/lib/python3.6/site-packages (from matplotlib<4,>=2.2.2->recommenders) (2.8.1)\n",
      "Requirement already satisfied: psutil in /home/ec2-user/anaconda3/envs/python3/lib/python3.6/site-packages (from memory-profiler<1,>=0.54.0->recommenders) (5.8.0)\n",
      "Requirement already satisfied: six in /home/ec2-user/anaconda3/envs/python3/lib/python3.6/site-packages (from nltk<4,>=3.4->recommenders) (1.15.0)\n",
      "Requirement already satisfied: setuptools in /home/ec2-user/anaconda3/envs/python3/lib/python3.6/site-packages (from numba<1,>=0.38.1->recommenders) (49.6.0.post20210108)\n",
      "Requirement already satisfied: llvmlite<0.36,>=0.35.0 in /home/ec2-user/anaconda3/envs/python3/lib/python3.6/site-packages (from numba<1,>=0.38.1->recommenders) (0.35.0)\n",
      "Requirement already satisfied: pytz>=2017.2 in /home/ec2-user/anaconda3/envs/python3/lib/python3.6/site-packages (from pandas<2,>1.0.3->recommenders) (2021.1)\n",
      "Requirement already satisfied: typing-extensions>=3.7.4.3 in /home/ec2-user/anaconda3/envs/python3/lib/python3.6/site-packages (from pandera[strategies]>=0.6.5->recommenders) (4.0.1)\n",
      "Requirement already satisfied: packaging>=20.0 in /home/ec2-user/anaconda3/envs/python3/lib/python3.6/site-packages (from pandera[strategies]>=0.6.5->recommenders) (21.3)\n",
      "Requirement already satisfied: wrapt in /home/ec2-user/anaconda3/envs/python3/lib/python3.6/site-packages (from pandera[strategies]>=0.6.5->recommenders) (1.12.1)\n",
      "Collecting typing-inspect>=0.6.0\n",
      "  Downloading typing_inspect-0.7.1-py3-none-any.whl (8.4 kB)\n",
      "Collecting hypothesis>=5.41.1\n",
      "  Downloading hypothesis-6.31.6-py3-none-any.whl (377 kB)\n",
      "     |████████████████████████████████| 377 kB 74.4 MB/s            \n",
      "\u001b[?25hRequirement already satisfied: charset-normalizer~=2.0.0 in /home/ec2-user/anaconda3/envs/python3/lib/python3.6/site-packages (from requests<3,>=2.0.0->recommenders) (2.0.9)\n",
      "Requirement already satisfied: urllib3<1.27,>=1.21.1 in /home/ec2-user/anaconda3/envs/python3/lib/python3.6/site-packages (from requests<3,>=2.0.0->recommenders) (1.26.8)\n",
      "Requirement already satisfied: certifi>=2017.4.17 in /home/ec2-user/anaconda3/envs/python3/lib/python3.6/site-packages (from requests<3,>=2.0.0->recommenders) (2021.5.30)\n",
      "Requirement already satisfied: idna<4,>=2.5 in /home/ec2-user/anaconda3/envs/python3/lib/python3.6/site-packages (from requests<3,>=2.0.0->recommenders) (3.1)\n",
      "Requirement already satisfied: threadpoolctl>=2.0.0 in /home/ec2-user/anaconda3/envs/python3/lib/python3.6/site-packages (from scikit-learn<1.0.3,>=0.22.1->recommenders) (2.1.0)\n",
      "Requirement already satisfied: joblib>=0.11 in /home/ec2-user/anaconda3/envs/python3/lib/python3.6/site-packages (from scikit-learn<1.0.3,>=0.22.1->recommenders) (1.0.1)\n",
      "Collecting huggingface-hub<1.0,>=0.1.0\n",
      "  Downloading huggingface_hub-0.4.0-py3-none-any.whl (67 kB)\n",
      "     |████████████████████████████████| 67 kB 7.1 MB/s             \n",
      "\u001b[?25hCollecting tokenizers!=0.11.3,<0.13,>=0.11.1\n",
      "  Downloading tokenizers-0.12.1-cp36-cp36m-manylinux_2_12_x86_64.manylinux2010_x86_64.whl (6.6 MB)\n"
     ]
    },
    {
     "name": "stdout",
     "output_type": "stream",
     "text": [
      "     |███████████████████████████████▊| 6.6 MB 27.7 MB/s eta 0:00:01     |████████████████████████████████| 6.6 MB 27.7 MB/s            \n",
      "\u001b[?25hRequirement already satisfied: importlib-metadata in /home/ec2-user/anaconda3/envs/python3/lib/python3.6/site-packages (from transformers<5,>=2.5.0->recommenders) (3.7.0)\n",
      "Requirement already satisfied: dataclasses in /home/ec2-user/anaconda3/envs/python3/lib/python3.6/site-packages (from transformers<5,>=2.5.0->recommenders) (0.8)\n",
      "Requirement already satisfied: filelock in /home/ec2-user/anaconda3/envs/python3/lib/python3.6/site-packages (from transformers<5,>=2.5.0->recommenders) (3.0.12)\n",
      "Collecting sacremoses\n",
      "  Downloading sacremoses-0.0.53.tar.gz (880 kB)\n",
      "     |████████████████████████████████| 880 kB 28.7 MB/s            \n",
      "\u001b[?25h  Preparing metadata (setup.py) ... \u001b[?25ldone\n",
      "\u001b[?25hRequirement already satisfied: regex!=2019.12.17 in /home/ec2-user/anaconda3/envs/python3/lib/python3.6/site-packages (from transformers<5,>=2.5.0->recommenders) (2020.11.13)\n",
      "Requirement already satisfied: attrs>=19.2.0 in /home/ec2-user/anaconda3/envs/python3/lib/python3.6/site-packages (from hypothesis>=5.41.1->pandera[strategies]>=0.6.5->recommenders) (20.3.0)\n",
      "Requirement already satisfied: sortedcontainers<3.0.0,>=2.1.0 in /home/ec2-user/anaconda3/envs/python3/lib/python3.6/site-packages (from hypothesis>=5.41.1->pandera[strategies]>=0.6.5->recommenders) (2.3.0)\n",
      "Requirement already satisfied: mypy-extensions>=0.3.0 in /home/ec2-user/anaconda3/envs/python3/lib/python3.6/site-packages (from typing-inspect>=0.6.0->pandera[strategies]>=0.6.5->recommenders) (0.4.3)\n",
      "Requirement already satisfied: zipp>=0.5 in /home/ec2-user/anaconda3/envs/python3/lib/python3.6/site-packages (from importlib-metadata->transformers<5,>=2.5.0->recommenders) (3.4.0)\n",
      "Requirement already satisfied: mpmath in /home/ec2-user/anaconda3/envs/python3/lib/python3.6/site-packages (from powerlaw->cornac<2,>=1.1.2->recommenders) (1.2.1)\n",
      "Requirement already satisfied: click in /home/ec2-user/anaconda3/envs/python3/lib/python3.6/site-packages (from sacremoses->transformers<5,>=2.5.0->recommenders) (7.1.2)\n",
      "Building wheels for collected packages: lightfm, memory-profiler, retrying, scikit-surprise, sacremoses\n",
      "  Building wheel for lightfm (setup.py) ... \u001b[?25ldone\n",
      "\u001b[?25h  Created wheel for lightfm: filename=lightfm-1.16-cp36-cp36m-linux_x86_64.whl size=762043 sha256=42825f7da56fa9037c524e07f40a39bdc396033a839cac61ef6c418cebd134aa\n",
      "  Stored in directory: /home/ec2-user/.cache/pip/wheels/6c/f0/48/ffe9095b572a6b4adde8fda07a20ea92b68ce33577d0e22adb\n",
      "  Building wheel for memory-profiler (setup.py) ... \u001b[?25ldone\n",
      "\u001b[?25h  Created wheel for memory-profiler: filename=memory_profiler-0.60.0-py3-none-any.whl size=31276 sha256=cc005ab225bcbfc4068353e82457258800b1f27a1ace2e28c136825f495b4ff4\n",
      "  Stored in directory: /home/ec2-user/.cache/pip/wheels/fa/25/84/7bfb2bb7941fbd05a1cda2137057f22888c26189445c6032ec\n",
      "  Building wheel for retrying (setup.py) ... \u001b[?25ldone\n",
      "\u001b[?25h  Created wheel for retrying: filename=retrying-1.3.3-py3-none-any.whl size=11429 sha256=ac2364cc9b55af688eac54154b46157e251701a7e695c9053dc37f488430e4fc\n",
      "  Stored in directory: /home/ec2-user/.cache/pip/wheels/ac/cb/8a/b27bf6323e2f4c462dcbf77d70b7c5e7868a7fbe12871770cf\n",
      "  Building wheel for scikit-surprise (setup.py) ... \u001b[?25ldone\n",
      "\u001b[?25h  Created wheel for scikit-surprise: filename=scikit_surprise-1.1.1-cp36-cp36m-linux_x86_64.whl size=1672700 sha256=2ca6e8ec6b007bef9b7cc88912e74fa7b252212d398044e410132aa653da44b5\n",
      "  Stored in directory: /home/ec2-user/.cache/pip/wheels/de/9a/41/6a57bf37eb7b50de7f8c7ca9d7053bebe0ea7c7c9bae9fa293\n",
      "  Building wheel for sacremoses (setup.py) ... \u001b[?25ldone\n",
      "\u001b[?25h  Created wheel for sacremoses: filename=sacremoses-0.0.53-py3-none-any.whl size=895254 sha256=99cef0f3494e16e548472f343a147162de22aa578aad59788e3de1c673877fbc\n",
      "  Stored in directory: /home/ec2-user/.cache/pip/wheels/4c/64/31/e9900a234b23fb3e9dc565d6114a9d6ff84a72dbdd356502b4\n",
      "Successfully built lightfm memory-profiler retrying scikit-surprise sacremoses\n",
      "Installing collected packages: typing-inspect, tokenizers, sacremoses, powerlaw, pandera, hypothesis, huggingface-hub, transformers, scikit-surprise, retrying, memory-profiler, lightgbm, lightfm, cornac, category-encoders, recommenders\n",
      "Successfully installed category-encoders-1.3.0 cornac-1.14.2 huggingface-hub-0.4.0 hypothesis-6.31.6 lightfm-1.16 lightgbm-3.3.2 memory-profiler-0.60.0 pandera-0.6.5 powerlaw-1.5 recommenders-1.1.0 retrying-1.3.3 sacremoses-0.0.53 scikit-surprise-1.1.1 tokenizers-0.12.1 transformers-4.18.0 typing-inspect-0.7.1\n"
     ]
    }
   ],
   "source": [
    "!pip3 install recommenders"
   ]
  },
  {
   "cell_type": "code",
   "execution_count": 1,
   "id": "3876bb5d",
   "metadata": {
    "scrolled": true
   },
   "outputs": [
    {
     "name": "stdout",
     "output_type": "stream",
     "text": [
      "System version: 3.6.13 | packaged by conda-forge | (default, Feb 19 2021, 05:36:01) \n",
      "[GCC 9.3.0]\n",
      "Spark version: 2.4.0\n"
     ]
    }
   ],
   "source": [
    "# set the environment path to find Recommenders\n",
    "import sys\n",
    "import os\n",
    "\n",
    "import boto3\n",
    "\n",
    "import pyspark\n",
    "from pyspark.ml.recommendation import ALS\n",
    "from pyspark.sql.functions import col\n",
    "from pyspark.sql.types import IntegerType\n",
    "import pyspark.sql.functions as F\n",
    "from pyspark.sql import SparkSession\n",
    "from pyspark.sql.types import StructType, StructField\n",
    "from pyspark.sql.types import StringType, FloatType, IntegerType, LongType\n",
    "import warnings\n",
    "warnings.simplefilter(action='ignore', category=FutureWarning)\n",
    "\n",
    "from recommenders.utils.timer import Timer\n",
    "from recommenders.datasets import movielens\n",
    "from recommenders.utils.notebook_utils import is_jupyter\n",
    "from recommenders.datasets.spark_splitters import spark_random_split\n",
    "from recommenders.evaluation.spark_evaluation import SparkRatingEvaluation, SparkRankingEvaluation\n",
    "from recommenders.utils.spark_utils import start_or_get_spark\n",
    "\n",
    "print(\"System version: {}\".format(sys.version))\n",
    "print(\"Spark version: {}\".format(pyspark.__version__))"
   ]
  },
  {
   "cell_type": "markdown",
   "id": "5eabcb52",
   "metadata": {},
   "source": [
    "## 0. Set up Spark Context\n",
    "\n",
    "The following settings work well for debugging locally on VM - change when running on a cluster. We set up a giant single executor with many threads and specify memory cap."
   ]
  },
  {
   "cell_type": "code",
   "execution_count": 2,
   "id": "f2cc3f84",
   "metadata": {
    "scrolled": true
   },
   "outputs": [],
   "source": [
    "# the following settings work well for debugging locally on VM - change when running on a cluster\n",
    "# set up a giant single executor with many threads and specify memory cap\n",
    "spark = pyspark.sql.SparkSession \\\n",
    "        .builder \\\n",
    "        .config(\"spark.executor.instances\", 10) \\\n",
    "        .config(\"spark.driver.memory\", \"16g\") \\\n",
    "        .getOrCreate()\n",
    "spark.conf.set(\"spark.sql.analyzer.failAmbiguousSelfJoin\", \"false\")"
   ]
  },
  {
   "cell_type": "code",
   "execution_count": 3,
   "id": "de5e8240",
   "metadata": {
    "scrolled": false
   },
   "outputs": [
    {
     "name": "stderr",
     "output_type": "stream",
     "text": [
      "/home/ec2-user/anaconda3/envs/python3/lib/python3.6/site-packages/boto3/compat.py:88: PythonDeprecationWarning: Boto3 will no longer support Python 3.6 starting May 30, 2022. To continue receiving service updates, bug fixes, and security updates please upgrade to Python 3.7 or later. More information can be found here: https://aws.amazon.com/blogs/developer/python-support-policy-updates-for-aws-sdks-and-tools/\n",
      "  warnings.warn(warning, PythonDeprecationWarning)\n"
     ]
    },
    {
     "name": "stdout",
     "output_type": "stream",
     "text": [
      "312489\n",
      "312064\n",
      "311812\n",
      "311393\n",
      "312698\n",
      "311962\n",
      "312445\n",
      "312888\n",
      "311731\n",
      "311456\n",
      "3120938\n"
     ]
    }
   ],
   "source": [
    "BUCKET_NAME = 'amazon-reviews-pds'\n",
    "LOCAL_DIR = '../data/'\n",
    "s3_client = boto3.client('s3')\n",
    "s3 = boto3.resource('s3')\n",
    "my_bucket = s3.Bucket(BUCKET_NAME)\n",
    "\n",
    "first = True\n",
    "\n",
    "for object_summary in my_bucket.objects.filter(Prefix=\"parquet/product_category=Electronics/\"):\n",
    "    OBJECT_NAME = object_summary.key\n",
    "    LOCAL_FILE = LOCAL_DIR + OBJECT_NAME.split(\"/\")[-1]\n",
    "    s3_client.download_file(BUCKET_NAME, OBJECT_NAME, LOCAL_FILE)\n",
    "    data = spark.read.parquet(LOCAL_FILE)\n",
    "    print(data.count())\n",
    "    if first:\n",
    "        first = False\n",
    "    else:\n",
    "        data = prev_data.union(data)\n",
    "    prev_data = data\n",
    "\n",
    "print(data.count())"
   ]
  },
  {
   "cell_type": "code",
   "execution_count": 4,
   "id": "b92dec7e",
   "metadata": {},
   "outputs": [],
   "source": [
    "# top k\n",
    "TOP_K=10\n",
    "\n",
    "DATA_PATH='../data/amazon_reviews_us_Electronics_v1_00.tsv'\n",
    "\n",
    "COL_USER = \"customer_id\"\n",
    "COL_ITEM = \"product_parent\"\n",
    "COL_RATING = \"star_rating\"\n",
    "COL_PREDICTION = \"star_rating\"\n",
    "COL_TIMESTAMP = \"review_date\"\n",
    "NUM_USERS = data.select(COL_USER).distinct().count()\n",
    "NUM_ITEMS = data.select(COL_ITEM).distinct().count()"
   ]
  },
  {
   "cell_type": "code",
   "execution_count": 5,
   "id": "b219d032",
   "metadata": {
    "scrolled": true
   },
   "outputs": [],
   "source": [
    "data = data.select(COL_USER, COL_ITEM, COL_RATING)"
   ]
  },
  {
   "cell_type": "code",
   "execution_count": 6,
   "id": "cc12e2ce",
   "metadata": {},
   "outputs": [
    {
     "data": {
      "text/plain": [
       "3120938"
      ]
     },
     "execution_count": 6,
     "metadata": {},
     "output_type": "execute_result"
    }
   ],
   "source": [
    "data.count()"
   ]
  },
  {
   "cell_type": "code",
   "execution_count": 7,
   "id": "fe69489b",
   "metadata": {
    "scrolled": true
   },
   "outputs": [],
   "source": [
    "data = data.withColumn(COL_USER,col(COL_USER).cast(\"integer\"))\n",
    "data = data.withColumn(COL_ITEM,col(COL_ITEM).cast(\"integer\"))\n",
    "data = data.withColumn(COL_RATING,col(COL_RATING).cast(\"integer\"))"
   ]
  },
  {
   "cell_type": "code",
   "execution_count": 8,
   "id": "31c90139",
   "metadata": {},
   "outputs": [
    {
     "data": {
      "text/plain": [
       "3120938"
      ]
     },
     "execution_count": 8,
     "metadata": {},
     "output_type": "execute_result"
    }
   ],
   "source": [
    "data.count()"
   ]
  },
  {
   "cell_type": "code",
   "execution_count": 9,
   "id": "99cc236e",
   "metadata": {},
   "outputs": [],
   "source": [
    "import operator as op\n",
    "from functools import reduce\n",
    "import math\n",
    "def ncr(n: int, r: int) -> int:\n",
    "    \"\"\"\n",
    "    Calculates the number of different, unordered combination \n",
    "    of r objects from a set of n objects.\n",
    "    nCr(n,r) = nPr(n,r) / r!\n",
    "    \n",
    "    Args:\n",
    "        n (int): Number of objects in set\n",
    "        r (int): Number of objects to combine\n",
    "    Returns:\n",
    "        int: Number of combinations\n",
    "    \"\"\"\n",
    "    r = min(r, n-r)\n",
    "    numer = reduce(op.mul, range(n, n-r, -1), 1)\n",
    "    denom = reduce(op.mul, range(1, r+1), 1)\n",
    "    return numer // denom"
   ]
  },
  {
   "cell_type": "code",
   "execution_count": 10,
   "id": "c5598bfd",
   "metadata": {},
   "outputs": [],
   "source": [
    "data_sample = data.limit(5000)\n"
   ]
  },
  {
   "cell_type": "code",
   "execution_count": 11,
   "id": "513ef6df",
   "metadata": {},
   "outputs": [],
   "source": [
    "n_chunks = 50\n",
    "n=5000\n",
    "nr_pairings = ncr(n, 2)\n",
    "# minimum nr of pairings per chunk\n",
    "per_chunk = int(math.ceil(nr_pairings/(n_chunks - 1)))"
   ]
  },
  {
   "cell_type": "code",
   "execution_count": 12,
   "id": "0f0c5dc5",
   "metadata": {},
   "outputs": [
    {
     "data": {
      "text/plain": [
       "255052"
      ]
     },
     "execution_count": 12,
     "metadata": {},
     "output_type": "execute_result"
    }
   ],
   "source": [
    "per_chunk"
   ]
  },
  {
   "cell_type": "code",
   "execution_count": 13,
   "id": "8417a13e",
   "metadata": {},
   "outputs": [],
   "source": [
    "split_indices = [] # Array containing the indices to split at\n",
    "t = 0\n",
    "for i in range(n + 1):\n",
    "    # There are n - i pairings at index i\n",
    "    t += n - i\n",
    "    # If the current chunk has enough pairings \n",
    "    if t >= per_chunk:\n",
    "        split_indices.append(i)\n",
    "        t = 0"
   ]
  },
  {
   "cell_type": "code",
   "execution_count": 14,
   "id": "2b5dd781",
   "metadata": {},
   "outputs": [],
   "source": [
    "# We can check the number of pairings in each chunk running:\n",
    "\n",
    "s_indices = [0] + split_indices + [n]\n",
    "pairings_chunks = []\n",
    "for i in range(len(s_indices)-1):\n",
    "    start = s_indices[i]\n",
    "    end = s_indices[i + 1]\n",
    "    pairings_chunks.append(sum(range(n - end, n - start)))"
   ]
  },
  {
   "cell_type": "code",
   "execution_count": 18,
   "id": "b53fa7c0",
   "metadata": {},
   "outputs": [
    {
     "name": "stdout",
     "output_type": "stream",
     "text": [
      "5.63 ms ± 137 µs per loop (mean ± std. dev. of 7 runs, 100 loops each)\n"
     ]
    }
   ],
   "source": [
    "%%timeit\n",
    "ms = data_sample.groupby(COL_USER).mean(COL_RATING)\n",
    "#data_sample = ms.join(data_sample, data_sample[COL_USER]==ms[COL_USER], 'inner')\n",
    "#data_sample3 = data_sample2.withColumn('rating_norm_user', (data_sample2[COL_RATING] - data_sample2['avg(star_rating)']))"
   ]
  },
  {
   "cell_type": "code",
   "execution_count": 19,
   "id": "bff0caeb",
   "metadata": {},
   "outputs": [
    {
     "ename": "NameError",
     "evalue": "name 'ms' is not defined",
     "output_type": "error",
     "traceback": [
      "\u001b[0;31m---------------------------------------------------------------------------\u001b[0m",
      "\u001b[0;31mNameError\u001b[0m                                 Traceback (most recent call last)",
      "\u001b[0;32m<ipython-input-19-dda118228244>\u001b[0m in \u001b[0;36m<module>\u001b[0;34m\u001b[0m\n\u001b[0;32m----> 1\u001b[0;31m \u001b[0mms\u001b[0m\u001b[0;34m.\u001b[0m\u001b[0mshow\u001b[0m\u001b[0;34m(\u001b[0m\u001b[0;36m10\u001b[0m\u001b[0;34m)\u001b[0m\u001b[0;34m\u001b[0m\u001b[0;34m\u001b[0m\u001b[0m\n\u001b[0m",
      "\u001b[0;31mNameError\u001b[0m: name 'ms' is not defined"
     ]
    }
   ],
   "source": [
    "ms.show(10)"
   ]
  },
  {
   "cell_type": "code",
   "execution_count": null,
   "id": "cc1e9d4e",
   "metadata": {},
   "outputs": [],
   "source": []
  }
 ],
 "metadata": {
  "kernelspec": {
   "display_name": "conda_python3",
   "language": "python",
   "name": "conda_python3"
  },
  "language_info": {
   "codemirror_mode": {
    "name": "ipython",
    "version": 3
   },
   "file_extension": ".py",
   "mimetype": "text/x-python",
   "name": "python",
   "nbconvert_exporter": "python",
   "pygments_lexer": "ipython3",
   "version": "3.6.13"
  }
 },
 "nbformat": 4,
 "nbformat_minor": 5
}
